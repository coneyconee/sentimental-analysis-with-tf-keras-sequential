{
 "cells": [
  {
   "cell_type": "markdown",
   "metadata": {},
   "source": [
    "Step 1. Preprocess dataset"
   ]
  },
  {
   "cell_type": "code",
   "execution_count": null,
   "metadata": {},
   "outputs": [],
   "source": [
    "# Install dependencies\n",
    "%conda install pandas numpy tensorflow sklearn keras nltk keras-tuner"
   ]
  },
  {
   "cell_type": "code",
   "execution_count": null,
   "metadata": {},
   "outputs": [],
   "source": [
    "#import libraries\n",
    "import pandas as pd\n",
    "import numpy as np\n",
    "import tensorflow as tf\n",
    "from sklearn.model_selection import train_test_split\n",
    "import keras.api._v2.keras as keras\n",
    "from keras.preprocessing.text import Tokenizer\n",
    "from keras_preprocessing.sequence import pad_sequences\n",
    "from nltk.corpus import stopwords\n",
    "from nltk.stem import PorterStemmer\n",
    "import nltk\n",
    "from nltk.tokenize import word_tokenize\n",
    "import keras_tuner as kt\n",
    "\n",
    "#download packages from nltk\n",
    "nltk.download('punkt')\n",
    "nltk.download('stopwords')"
   ]
  },
  {
   "cell_type": "code",
   "execution_count": null,
   "metadata": {},
   "outputs": [],
   "source": [
    "#read and format the csv in pandas\n",
    "df = pd.read_csv('training.1600000.processed.noemoticon.csv', encoding='latin-1', names=[\"sentiment\", \"ids\", \"date\", \"flag\", \"user\", \"text\"])"
   ]
  },
  {
   "cell_type": "code",
   "execution_count": null,
   "metadata": {},
   "outputs": [],
   "source": [
    "#removing unneeded columns\n",
    "df.drop('ids', inplace=True, axis=1)\n",
    "df.drop('date', inplace=True, axis=1)\n",
    "df.drop('flag', inplace=True, axis=1)\n",
    "df.drop('user', inplace=True, axis=1)"
   ]
  },
  {
   "cell_type": "code",
   "execution_count": null,
   "metadata": {},
   "outputs": [],
   "source": [
    "#cleaning text\n",
    "def caydranisabum():\n",
    "    df.dropna(subset=['text'], inplace=True) #drop missing values\n",
    "    df.drop_duplicates(subset=['text'], inplace=True) #drop duplicates\n",
    "    df['text'] = df['text'].str.lower().str.replace('[^\\w\\s]', '', regex=True) #convert all chars to lowercase\n",
    "\n",
    "caydranisabum()\n"
   ]
  },
  {
   "cell_type": "code",
   "execution_count": null,
   "metadata": {},
   "outputs": [],
   "source": [
    "#tokenisation of tweets using nltk\n",
    "df['tokens'] = df['text'].apply(word_tokenize)"
   ]
  },
  {
   "cell_type": "code",
   "execution_count": null,
   "metadata": {},
   "outputs": [],
   "source": [
    "#removing stopwords\n",
    "stop_words = set(stopwords.words('english'))\n",
    "df['tokens'] = df['tokens'].apply(lambda x: [word for word in x if word not in stop_words])"
   ]
  },
  {
   "cell_type": "code",
   "execution_count": null,
   "metadata": {},
   "outputs": [],
   "source": [
    "#stemming\n",
    "stemmer = PorterStemmer()\n",
    "df['tokens'] = df['tokens'].apply(lambda x: [stemmer.stem(word) for word in x])"
   ]
  },
  {
   "cell_type": "code",
   "execution_count": null,
   "metadata": {},
   "outputs": [],
   "source": [
    "#un-tokenising the preprocessed text\n",
    "df['cleaned_text'] = df['tokens'].apply(lambda x: ' '.join(x))"
   ]
  },
  {
   "cell_type": "code",
   "execution_count": null,
   "metadata": {},
   "outputs": [],
   "source": [
    "#remove unneeded columns\n",
    "df.drop('text', inplace=True, axis=1)\n",
    "df.drop('tokens', inplace=True, axis=1)\n",
    "\n",
    "#the columns shld now be just 'sentiment' and 'cleaned-text'"
   ]
  },
  {
   "cell_type": "code",
   "execution_count": null,
   "metadata": {},
   "outputs": [],
   "source": [
    "#save the preprocessed texts if you want\n",
    "df.to_csv('text_save_1.csv')"
   ]
  },
  {
   "cell_type": "code",
   "execution_count": null,
   "metadata": {},
   "outputs": [],
   "source": [
    "#csv to numpy arr (keras model less compatibility issues with arrays, pandas automatically converts csv elements to objects)\n",
    "texts = df['cleaned_text'].values\n",
    "labels = df['sentiment'].values\n",
    "\n",
    "print('cleaned text',texts)\n",
    "print('labels',labels)"
   ]
  },
  {
   "cell_type": "markdown",
   "metadata": {},
   "source": [
    "Step 2: Set up our dataset & model for training"
   ]
  },
  {
   "cell_type": "code",
   "execution_count": null,
   "metadata": {},
   "outputs": [],
   "source": [
    "#make labels into bin, binary classification\n",
    "labels = (labels > 2).astype(int)\n",
    "\n",
    "print(labels)"
   ]
  },
  {
   "cell_type": "code",
   "execution_count": null,
   "metadata": {},
   "outputs": [],
   "source": [
    "#tokenise texts\n",
    "tokenizer = Tokenizer(num_words=20000)\n",
    "tokenizer.fit_on_texts(texts)\n",
    "sequences = tokenizer.texts_to_sequences(texts)\n",
    "padded_sequences = pad_sequences(sequences, maxlen=100)\n",
    "\n",
    "#split into train/test\n",
    "X_train, X_test, y_train, y_test = train_test_split(padded_sequences, labels, test_size=0.2, random_state=42)"
   ]
  },
  {
   "cell_type": "code",
   "execution_count": null,
   "metadata": {},
   "outputs": [],
   "source": [
    "#building model (we are using the keras v2 sequential model with lstm layers)\n",
    "from keras import layers\n",
    "from keras_tuner import RandomSearch\n",
    "\n",
    "def build_model(hp):\n",
    "    model = keras.Sequential()\n",
    "    model.add(layers.Embedding(input_dim=20000, output_dim=hp.Int('embedding_dim', min_value=32, max_value=128, step=32), input_length=100))\n",
    "    model.add(layers.LSTM(units=hp.Int('lstm_units', min_value=32, max_value=128, step=32), return_sequences=True))\n",
    "    model.add(layers.GlobalMaxPooling1D())\n",
    "    model.add(layers.Dense(units=hp.Int('dense_units', min_value=32, max_value=128, step=32), activation='relu'))\n",
    "    model.add(layers.Dense(1, activation='sigmoid'))  #note: sigmoid for bin classification\n",
    "    \n",
    "    #USE LEGACY ADAM OPTIMISER FOR SILICON CHIPS, IF INTEL NO NEED LEGACY\n",
    "    model.compile(optimizer=keras.optimizers.legacy.Adam(hp.Choice('learning_rate', values=[1e-3, 1e-4, 1e-5])),  #note: lowered learning rate from prev try\n",
    "                  loss='binary_crossentropy',  #note binary not multiclass\n",
    "                  metrics=['accuracy'])\n",
    "    \n",
    "    return model\n"
   ]
  },
  {
   "cell_type": "markdown",
   "metadata": {},
   "source": [
    "Step 3: Training"
   ]
  },
  {
   "cell_type": "code",
   "execution_count": null,
   "metadata": {},
   "outputs": [],
   "source": [
    "#keras tuner to tune automatically (with adaptive movement optimiser to tweak hyperparems)\n",
    "#4 trials of 10 epochs, chose to use 1 execution per trial only because according to previous tests we did, the executions all had identical val loss and accuracy\n",
    "#it took ~1200 mins to run this!!!\n",
    "tuner = RandomSearch(\n",
    "    build_model,\n",
    "    objective='val_accuracy',\n",
    "    max_trials=4,\n",
    "    executions_per_trial=1,\n",
    "    directory='my_dir',\n",
    "    project_name='sentiment_analysis_tuning_2'\n",
    ")\n",
    "tuner.search(X_train, y_train, epochs=10, validation_data=(X_test, y_test))\n",
    "\n",
    "#save the best model as hdf5 file, we chose to put it in the same cell as the training because we had a bug beforehand that caused us to lose all progress due to not being able to save the file after training\n",
    "best_model = tuner.get_best_models(num_models=1)[0]\n",
    "best_model.save('best.h5')"
   ]
  },
  {
   "cell_type": "markdown",
   "metadata": {},
   "source": [
    "Step 4: Saving the model"
   ]
  },
  {
   "cell_type": "code",
   "execution_count": null,
   "metadata": {},
   "outputs": [],
   "source": [
    "#val loss & accuracy of this cool model\n",
    "model = keras.models.load_model('best.h5')\n",
    "model.evaluate(X_test, y_test)"
   ]
  }
 ],
 "metadata": {
  "kernelspec": {
   "display_name": "base",
   "language": "python",
   "name": "python3"
  },
  "language_info": {
   "codemirror_mode": {
    "name": "ipython",
    "version": 3
   },
   "file_extension": ".py",
   "mimetype": "text/x-python",
   "name": "python",
   "nbconvert_exporter": "python",
   "pygments_lexer": "ipython3",
   "version": "3.11.5"
  }
 },
 "nbformat": 4,
 "nbformat_minor": 2
}
