{
 "cells": [
  {
   "cell_type": "markdown",
   "metadata": {},
   "source": [
    "Using the model to predict sentiment"
   ]
  },
  {
   "cell_type": "code",
   "execution_count": null,
   "metadata": {},
   "outputs": [],
   "source": [
    "# Install dependencies\n",
    "%conda install pandas tensorflow sklearn keras nltk"
   ]
  },
  {
   "cell_type": "code",
   "execution_count": null,
   "metadata": {},
   "outputs": [],
   "source": [
    "#import libraries\n",
    "import pandas as pd\n",
    "import tensorflow as tf\n",
    "import keras.api._v2.keras as keras\n",
    "from keras.preprocessing.text import Tokenizer\n",
    "from keras_preprocessing.sequence import pad_sequences\n",
    "import nltk\n",
    "from nltk.tokenize import word_tokenize\n",
    "import keras_tuner as kt\n",
    "\n",
    "#download packages from nltk\n",
    "nltk.download('punkt')\n",
    "nltk.download('stopwords')"
   ]
  },
  {
   "cell_type": "code",
   "execution_count": null,
   "metadata": {},
   "outputs": [],
   "source": [
    "#load best.hdf5 which is our saved model\n",
    "model = keras.models.load_model('best_model.h5')"
   ]
  },
  {
   "cell_type": "code",
   "execution_count": null,
   "metadata": {},
   "outputs": [],
   "source": [
    "#load dependencies\n",
    "\n",
    "df = pd.read_csv('text_save.csv')\n",
    "\n",
    "df['cleaned_text'] = df['cleaned_text'].astype(str).apply(lambda x: x.lower())\n",
    "\n",
    "texts = df['cleaned_text'].values\n",
    "\n",
    "tokenizer = Tokenizer(num_words=20000)\n",
    "\n",
    "tokenizer.fit_on_texts(texts)"
   ]
  },
  {
   "cell_type": "code",
   "execution_count": null,
   "metadata": {},
   "outputs": [],
   "source": [
    "def use_model():\n",
    "    tmp = input(\"sentence (accuracy is best if over 10 words): \")\n",
    "\n",
    "    #preprocess input\n",
    "    seq = tokenizer.texts_to_sequences([tmp])\n",
    "    padseq = pad_sequences(seq, maxlen=100)\n",
    "\n",
    "    #predict\n",
    "    probability = model.predict(padseq,verbose=0)[0][0]\n",
    "\n",
    "    if probability < 0.4:\n",
    "        result = 'Negative'\n",
    "    if probability > 0.6:\n",
    "        result = 'Positive'\n",
    "    if 0.5 > probability > 0.4:\n",
    "        result = 'Negative (uncertain)'\n",
    "    if 0.6 > probability > 0.5:\n",
    "        result = 'Positive (uncertain)'\n",
    "    if result == 0.5:\n",
    "        result = 'Uncertain'\n",
    "    \n",
    "    print('Your sentence:', tmp, '\\n')\n",
    "    print('Probability:',probability, '\\n')\n",
    "    print('Predicted sentiment:',result)\n",
    "\n",
    "use_model()"
   ]
  }
 ],
 "metadata": {
  "kernelspec": {
   "display_name": "base",
   "language": "python",
   "name": "python3"
  },
  "language_info": {
   "codemirror_mode": {
    "name": "ipython",
    "version": 3
   },
   "file_extension": ".py",
   "mimetype": "text/x-python",
   "name": "python",
   "nbconvert_exporter": "python",
   "pygments_lexer": "ipython3",
   "version": "3.11.5"
  }
 },
 "nbformat": 4,
 "nbformat_minor": 2
}
